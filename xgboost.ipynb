{
 "cells": [
  {
   "cell_type": "code",
   "execution_count": 1,
   "metadata": {
    "collapsed": true
   },
   "outputs": [],
   "source": [
    "import pandas as pd\n",
    "from sklearn.cross_validation import train_test_split\n",
    "from sklearn import preprocessing\n",
    "from sklearn.feature_selection import SelectKBest\n",
    "from sklearn.feature_selection import f_regression\n",
    "import numpy as np\n",
    "from sklearn import linear_model\n",
    "from sklearn.grid_search import GridSearchCV\n",
    "from sklearn.cross_validation import KFold\n",
    "from sklearn.metrics import mean_absolute_error\n",
    "import matplotlib.pyplot as plt\n",
    "%matplotlib inline\n",
    "from sklearn.preprocessing import LabelEncoder\n",
    "import xgboost as xgb"
   ]
  },
  {
   "cell_type": "code",
   "execution_count": 3,
   "metadata": {
    "collapsed": false
   },
   "outputs": [],
   "source": [
    "X_train = pd.read_pickle(\"X_train.pkl\")"
   ]
  },
  {
   "cell_type": "code",
   "execution_count": 4,
   "metadata": {
    "collapsed": true
   },
   "outputs": [],
   "source": [
    "X_test = pd.read_pickle(\"X_test.pkl\")"
   ]
  },
  {
   "cell_type": "code",
   "execution_count": 5,
   "metadata": {
    "collapsed": true
   },
   "outputs": [],
   "source": [
    "Y_train = pd.read_pickle(\"Y_train.pkl\")"
   ]
  },
  {
   "cell_type": "code",
   "execution_count": 10,
   "metadata": {
    "collapsed": true
   },
   "outputs": [],
   "source": [
    "X_train, X_validation, Y_train, Y_validation = train_test_split(X_train, Y_train, train_size=.75)"
   ]
  },
  {
   "cell_type": "code",
   "execution_count": 11,
   "metadata": {
    "collapsed": false
   },
   "outputs": [],
   "source": [
    "dtrain = xgb.DMatrix(X_train, label=Y_train)"
   ]
  },
  {
   "cell_type": "code",
   "execution_count": 12,
   "metadata": {
    "collapsed": true
   },
   "outputs": [],
   "source": [
    "dvalid = xgb.DMatrix(X_validation,Y_validation)"
   ]
  },
  {
   "cell_type": "code",
   "execution_count": 21,
   "metadata": {
    "collapsed": false
   },
   "outputs": [],
   "source": [
    "dtest = xgb.DMatrix(X_test)"
   ]
  },
  {
   "cell_type": "code",
   "execution_count": 13,
   "metadata": {
    "collapsed": true
   },
   "outputs": [],
   "source": [
    "param = {'bst:max_depth':2, 'bst:eta':1, 'silent':1}\n",
    "param['nthread'] = 4\n",
    "param['eval_metric'] = 'mae'"
   ]
  },
  {
   "cell_type": "code",
   "execution_count": 14,
   "metadata": {
    "collapsed": true
   },
   "outputs": [],
   "source": [
    "evallist  = [(dvalid,'eval'), (dtrain,'train')]"
   ]
  },
  {
   "cell_type": "code",
   "execution_count": 17,
   "metadata": {
    "collapsed": false
   },
   "outputs": [
    {
     "name": "stdout",
     "output_type": "stream",
     "text": [
      "[0]\teval-mae:5.03471\ttrain-mae:5.02977\n",
      "[1]\teval-mae:3.5264\ttrain-mae:3.52148\n",
      "[2]\teval-mae:2.47114\ttrain-mae:2.4662\n",
      "[3]\teval-mae:1.73494\ttrain-mae:1.73035\n",
      "[4]\teval-mae:1.23056\ttrain-mae:1.22583\n",
      "[5]\teval-mae:0.900858\ttrain-mae:0.89698\n",
      "[6]\teval-mae:0.703123\ttrain-mae:0.700104\n",
      "[7]\teval-mae:0.590893\ttrain-mae:0.588995\n",
      "[8]\teval-mae:0.530557\ttrain-mae:0.529249\n",
      "[9]\teval-mae:0.498184\ttrain-mae:0.497232\n",
      "[10]\teval-mae:0.479206\ttrain-mae:0.478457\n",
      "[11]\teval-mae:0.469593\ttrain-mae:0.468942\n",
      "[12]\teval-mae:0.463798\ttrain-mae:0.46309\n",
      "[13]\teval-mae:0.460002\ttrain-mae:0.459211\n",
      "[14]\teval-mae:0.457993\ttrain-mae:0.457009\n",
      "[15]\teval-mae:0.456482\ttrain-mae:0.455345\n",
      "[16]\teval-mae:0.455394\ttrain-mae:0.454172\n",
      "[17]\teval-mae:0.454731\ttrain-mae:0.453417\n",
      "[18]\teval-mae:0.453708\ttrain-mae:0.452239\n",
      "[19]\teval-mae:0.453184\ttrain-mae:0.451441\n",
      "[20]\teval-mae:0.452822\ttrain-mae:0.450833\n",
      "[21]\teval-mae:0.452335\ttrain-mae:0.450068\n",
      "[22]\teval-mae:0.452117\ttrain-mae:0.449692\n",
      "[23]\teval-mae:0.451728\ttrain-mae:0.449091\n",
      "[24]\teval-mae:0.451435\ttrain-mae:0.44861\n",
      "[25]\teval-mae:0.451301\ttrain-mae:0.448219\n",
      "[26]\teval-mae:0.451065\ttrain-mae:0.44788\n",
      "[27]\teval-mae:0.450868\ttrain-mae:0.447424\n",
      "[28]\teval-mae:0.450733\ttrain-mae:0.447109\n",
      "[29]\teval-mae:0.450519\ttrain-mae:0.446734\n"
     ]
    }
   ],
   "source": [
    "num_round = 30\n",
    "bst = xgb.train(param, dtrain, num_round, evallist )"
   ]
  },
  {
   "cell_type": "code",
   "execution_count": 18,
   "metadata": {
    "collapsed": true
   },
   "outputs": [],
   "source": [
    "bst.save_model('0001.model')"
   ]
  },
  {
   "cell_type": "code",
   "execution_count": 22,
   "metadata": {
    "collapsed": false
   },
   "outputs": [],
   "source": [
    "ypred = bst.predict(dtest)"
   ]
  },
  {
   "cell_type": "code",
   "execution_count": 26,
   "metadata": {
    "collapsed": false
   },
   "outputs": [],
   "source": [
    "prediction = np.expm1(ypred)"
   ]
  },
  {
   "cell_type": "code",
   "execution_count": 27,
   "metadata": {
    "collapsed": true
   },
   "outputs": [],
   "source": [
    "submit = pd.read_csv(\"sample_submission.csv\")"
   ]
  },
  {
   "cell_type": "code",
   "execution_count": 28,
   "metadata": {
    "collapsed": true
   },
   "outputs": [],
   "source": [
    "submit[\"loss\"] = prediction\n",
    "submit.to_csv(\"xgbtrial.csv\",index=False)"
   ]
  },
  {
   "cell_type": "code",
   "execution_count": null,
   "metadata": {
    "collapsed": true
   },
   "outputs": [],
   "source": []
  }
 ],
 "metadata": {
  "anaconda-cloud": {},
  "kernelspec": {
   "display_name": "Python [Root]",
   "language": "python",
   "name": "Python [Root]"
  },
  "language_info": {
   "codemirror_mode": {
    "name": "ipython",
    "version": 3
   },
   "file_extension": ".py",
   "mimetype": "text/x-python",
   "name": "python",
   "nbconvert_exporter": "python",
   "pygments_lexer": "ipython3",
   "version": "3.5.2"
  }
 },
 "nbformat": 4,
 "nbformat_minor": 0
}
