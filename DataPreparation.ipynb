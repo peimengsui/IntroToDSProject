{
 "cells": [
  {
   "cell_type": "code",
   "execution_count": 1,
   "metadata": {
    "collapsed": true
   },
   "outputs": [],
   "source": [
    "import pandas as pd\n",
    "import numpy as np\n",
    "from scipy.stats import skew, boxcox\n",
    "from sklearn import preprocessing\n",
    "from sklearn.preprocessing import StandardScaler\n",
    "import itertools"
   ]
  },
  {
   "cell_type": "code",
   "execution_count": 2,
   "metadata": {
    "collapsed": true
   },
   "outputs": [],
   "source": [
    "drop_list = ['cat15','cat18','cat20','cat21','cat22','cat48','cat55','cat56','cat58','cat59','cat60'\n",
    "             ,'cat62','cat63','cat64','cat65','cat68','cat69','cat77','cat78','cat85']"
   ]
  },
  {
   "cell_type": "code",
   "execution_count": 3,
   "metadata": {
    "collapsed": true
   },
   "outputs": [],
   "source": [
    "def mungeskewed(train, test, numeric_feats):\n",
    "    ntrain = train.shape[0]\n",
    "    test['loss'] = 0\n",
    "    train_test = pd.concat((train, test)).reset_index(drop=True)\n",
    "    skewed_feats = train[numeric_feats].apply(lambda x: skew(x.dropna()))\n",
    "    skewed_feats = skewed_feats[skewed_feats > 0.25]\n",
    "    skewed_feats = skewed_feats.index\n",
    "\n",
    "    for feats in skewed_feats:\n",
    "        train_test[feats] = train_test[feats] + 1\n",
    "        train_test[feats], lam = boxcox(train_test[feats])\n",
    "    return train_test, ntrain"
   ]
  },
  {
   "cell_type": "code",
   "execution_count": 4,
   "metadata": {
    "collapsed": false
   },
   "outputs": [],
   "source": [
    "train = pd.read_csv(\"train.csv\",index_col=0)\n",
    "test = pd.read_csv(\"test.csv\",index_col=0)"
   ]
  },
  {
   "cell_type": "code",
   "execution_count": 5,
   "metadata": {
    "collapsed": false
   },
   "outputs": [],
   "source": [
    "train = train.drop(drop_list,axis=1)\n",
    "test = test.drop(drop_list,axis=1)"
   ]
  },
  {
   "cell_type": "code",
   "execution_count": 6,
   "metadata": {
    "collapsed": false
   },
   "outputs": [],
   "source": [
    "bins1 = [x for x in np.arange(0,1.2,0.2)]\n",
    "train.cont1 = pd.cut(train.cont1,bins1)\n",
    "test.cont1 = pd.cut(test.cont1,bins1)\n",
    "bins2 = [x for x in np.arange(0,1.05,0.05)]\n",
    "train.cont2 = pd.cut(train.cont2,bins2)\n",
    "test.cont2 = pd.cut(test.cont2,bins2)"
   ]
  },
  {
   "cell_type": "code",
   "execution_count": 7,
   "metadata": {
    "collapsed": true
   },
   "outputs": [],
   "source": [
    "train.rename(columns={\"cont1\": \"cat001\", \"cont2\": \"cat002\"},inplace = True)\n",
    "test.rename(columns={\"cont1\": \"cat001\", \"cont2\": \"cat002\"},inplace = True)"
   ]
  },
  {
   "cell_type": "code",
   "execution_count": 8,
   "metadata": {
    "collapsed": false
   },
   "outputs": [],
   "source": [
    "numeric_feats = [x for x in train.columns[0:-1] if 'cont' in x]\n",
    "categorical_feats = [x for x in train.columns[0:-1] if 'cat' in x]"
   ]
  },
  {
   "cell_type": "code",
   "execution_count": 9,
   "metadata": {
    "collapsed": false
   },
   "outputs": [],
   "source": [
    "train_test, ntrain = mungeskewed(train, test, numeric_feats)"
   ]
  },
  {
   "cell_type": "code",
   "execution_count": 10,
   "metadata": {
    "collapsed": true
   },
   "outputs": [],
   "source": [
    "# for column in list(train.select_dtypes(include=['object']).columns):\n",
    "#         if train[column].nunique() != test[column].nunique():\n",
    "#             set_train = set(train[column].unique())\n",
    "#             set_test = set(test[column].unique())\n",
    "#             remove_train = set_train - set_test\n",
    "#             remove_test = set_test - set_train\n",
    "\n",
    "#             remove = remove_train.union(remove_test)\n",
    "\n",
    "\n",
    "#             def filter_cat(x):\n",
    "#                 if x in remove:\n",
    "#                     return np.nan\n",
    "#                 return x\n",
    "\n",
    "\n",
    "#             train_test[column] = train_test[column].apply(lambda x: filter_cat(x), 1)"
   ]
  },
  {
   "cell_type": "code",
   "execution_count": 10,
   "metadata": {
    "collapsed": false
   },
   "outputs": [],
   "source": [
    "train_test[\"cont4\"] = np.sqrt(preprocessing.minmax_scale(train_test[\"cont4\"]))\n",
    "train_test[\"cont5\"] = np.sqrt(preprocessing.minmax_scale(train_test[\"cont5\"]))\n",
    "train_test[\"cont8\"] = np.sqrt(preprocessing.minmax_scale(train_test[\"cont8\"]))\n",
    "train_test[\"cont10\"] = np.sqrt(preprocessing.minmax_scale(train_test[\"cont10\"]))\n",
    "train_test[\"cont11\"] = np.sqrt(preprocessing.minmax_scale(train_test[\"cont11\"]))\n",
    "train_test[\"cont12\"] = np.sqrt(preprocessing.minmax_scale(train_test[\"cont12\"]))\n",
    "test.cont7 = np.log1p(test.cont7)\n",
    "train_test[\"cont6\"] = np.log1p(preprocessing.minmax_scale(train_test[\"cont6\"]))\n",
    "train_test[\"cont7\"] = np.log1p(preprocessing.minmax_scale(train_test[\"cont7\"]) )\n",
    "train_test[\"cont9\"] = np.log1p(preprocessing.minmax_scale(train_test[\"cont9\"]) )\n",
    "train_test[\"cont13\"] = np.log1p(preprocessing.minmax_scale(train_test[\"cont13\"]) )\n",
    "#train_test[\"cont14\"] = (np.maximum(train_test[\"cont14\"] - 0.179722, 0) / 0.665122) ** 0.25"
   ]
  },
  {
   "cell_type": "code",
   "execution_count": 11,
   "metadata": {
    "collapsed": false
   },
   "outputs": [],
   "source": [
    "ss = StandardScaler()\n",
    "train_test[numeric_feats] = ss.fit_transform(train_test[numeric_feats].values)"
   ]
  },
  {
   "cell_type": "code",
   "execution_count": 12,
   "metadata": {
    "collapsed": true
   },
   "outputs": [],
   "source": [
    "train = train_test.iloc[:ntrain, :].copy()\n",
    "test = train_test.iloc[ntrain:, :].copy()\n"
   ]
  },
  {
   "cell_type": "code",
   "execution_count": 13,
   "metadata": {
    "collapsed": false
   },
   "outputs": [],
   "source": [
    "train.loss = np.log1p(train.loss)\n",
    "test = test.drop([\"loss\"],axis = 1)"
   ]
  },
  {
   "cell_type": "code",
   "execution_count": 14,
   "metadata": {
    "collapsed": true
   },
   "outputs": [],
   "source": [
    "train.to_csv('self_train.csv')\n",
    "test.to_csv('self_test.csv')"
   ]
  },
  {
   "cell_type": "code",
   "execution_count": null,
   "metadata": {
    "collapsed": true
   },
   "outputs": [],
   "source": []
  }
 ],
 "metadata": {
  "anaconda-cloud": {},
  "kernelspec": {
   "display_name": "Python [Root]",
   "language": "python",
   "name": "Python [Root]"
  },
  "language_info": {
   "codemirror_mode": {
    "name": "ipython",
    "version": 3
   },
   "file_extension": ".py",
   "mimetype": "text/x-python",
   "name": "python",
   "nbconvert_exporter": "python",
   "pygments_lexer": "ipython3",
   "version": "3.5.2"
  }
 },
 "nbformat": 4,
 "nbformat_minor": 0
}
